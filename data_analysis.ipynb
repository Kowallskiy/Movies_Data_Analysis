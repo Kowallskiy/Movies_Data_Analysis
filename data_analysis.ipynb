{
 "cells": [
  {
   "cell_type": "code",
   "execution_count": 1,
   "metadata": {},
   "outputs": [],
   "source": [
    "import pandas as pd\n",
    "import seaborn as sns\n",
    "import matplotlib.pyplot as plt"
   ]
  },
  {
   "cell_type": "code",
   "execution_count": 2,
   "metadata": {},
   "outputs": [],
   "source": [
    "movies_path = \"popular_10000_movies_tmdb.csv\"\n",
    "movies_data = pd.read_csv(movies_path)"
   ]
  },
  {
   "cell_type": "code",
   "execution_count": 3,
   "metadata": {},
   "outputs": [
    {
     "data": {
      "text/html": [
       "<div>\n",
       "<style scoped>\n",
       "    .dataframe tbody tr th:only-of-type {\n",
       "        vertical-align: middle;\n",
       "    }\n",
       "\n",
       "    .dataframe tbody tr th {\n",
       "        vertical-align: top;\n",
       "    }\n",
       "\n",
       "    .dataframe thead th {\n",
       "        text-align: right;\n",
       "    }\n",
       "</style>\n",
       "<table border=\"1\" class=\"dataframe\">\n",
       "  <thead>\n",
       "    <tr style=\"text-align: right;\">\n",
       "      <th></th>\n",
       "      <th>id</th>\n",
       "      <th>title</th>\n",
       "      <th>release_date</th>\n",
       "      <th>genres</th>\n",
       "      <th>original_language</th>\n",
       "      <th>vote_average</th>\n",
       "      <th>vote_count</th>\n",
       "      <th>popularity</th>\n",
       "      <th>overview</th>\n",
       "      <th>budget</th>\n",
       "      <th>production_companies</th>\n",
       "      <th>revenue</th>\n",
       "      <th>runtime</th>\n",
       "      <th>tagline</th>\n",
       "    </tr>\n",
       "  </thead>\n",
       "  <tbody>\n",
       "    <tr>\n",
       "      <th>0</th>\n",
       "      <td>758323</td>\n",
       "      <td>The Pope's Exorcist</td>\n",
       "      <td>2023-04-05</td>\n",
       "      <td>['Horror', 'Mystery', 'Thriller']</td>\n",
       "      <td>English</td>\n",
       "      <td>7.4</td>\n",
       "      <td>619</td>\n",
       "      <td>5089.969</td>\n",
       "      <td>Father Gabriele Amorth, Chief Exorcist of the ...</td>\n",
       "      <td>18000000</td>\n",
       "      <td>['Screen Gems', '2.0 Entertainment', 'Jesus &amp; ...</td>\n",
       "      <td>65675816</td>\n",
       "      <td>103</td>\n",
       "      <td>Inspired by the actual files of Father Gabriel...</td>\n",
       "    </tr>\n",
       "    <tr>\n",
       "      <th>1</th>\n",
       "      <td>640146</td>\n",
       "      <td>Ant-Man and the Wasp: Quantumania</td>\n",
       "      <td>2023-02-15</td>\n",
       "      <td>['Action', 'Adventure', 'Science Fiction']</td>\n",
       "      <td>English</td>\n",
       "      <td>6.6</td>\n",
       "      <td>2294</td>\n",
       "      <td>4665.438</td>\n",
       "      <td>Super-Hero partners Scott Lang and Hope van Dy...</td>\n",
       "      <td>200000000</td>\n",
       "      <td>['Marvel Studios', 'Kevin Feige Productions']</td>\n",
       "      <td>464566092</td>\n",
       "      <td>125</td>\n",
       "      <td>Witness the beginning of a new dynasty.</td>\n",
       "    </tr>\n",
       "    <tr>\n",
       "      <th>2</th>\n",
       "      <td>502356</td>\n",
       "      <td>The Super Mario Bros. Movie</td>\n",
       "      <td>2023-04-05</td>\n",
       "      <td>['Animation', 'Adventure', 'Family', 'Fantasy'...</td>\n",
       "      <td>English</td>\n",
       "      <td>7.5</td>\n",
       "      <td>1861</td>\n",
       "      <td>3935.550</td>\n",
       "      <td>While working underground to fix a water main,...</td>\n",
       "      <td>100000000</td>\n",
       "      <td>['Universal Pictures', 'Illumination', 'Ninten...</td>\n",
       "      <td>1121048165</td>\n",
       "      <td>92</td>\n",
       "      <td>NaN</td>\n",
       "    </tr>\n",
       "    <tr>\n",
       "      <th>3</th>\n",
       "      <td>868759</td>\n",
       "      <td>Ghosted</td>\n",
       "      <td>2023-04-18</td>\n",
       "      <td>['Action', 'Comedy', 'Romance']</td>\n",
       "      <td>English</td>\n",
       "      <td>7.2</td>\n",
       "      <td>652</td>\n",
       "      <td>2791.532</td>\n",
       "      <td>Salt-of-the-earth Cole falls head over heels f...</td>\n",
       "      <td>0</td>\n",
       "      <td>['Skydance Media', 'Apple Studios']</td>\n",
       "      <td>0</td>\n",
       "      <td>120</td>\n",
       "      <td>Finding that special someone can be a real adv...</td>\n",
       "    </tr>\n",
       "    <tr>\n",
       "      <th>4</th>\n",
       "      <td>594767</td>\n",
       "      <td>Shazam! Fury of the Gods</td>\n",
       "      <td>2023-03-15</td>\n",
       "      <td>['Action', 'Comedy', 'Fantasy', 'Adventure']</td>\n",
       "      <td>English</td>\n",
       "      <td>6.8</td>\n",
       "      <td>1510</td>\n",
       "      <td>2702.593</td>\n",
       "      <td>Billy Batson and his foster siblings, who tran...</td>\n",
       "      <td>125000000</td>\n",
       "      <td>['New Line Cinema', 'The Safran Company', 'DC ...</td>\n",
       "      <td>133437105</td>\n",
       "      <td>130</td>\n",
       "      <td>Oh. My. Gods.</td>\n",
       "    </tr>\n",
       "  </tbody>\n",
       "</table>\n",
       "</div>"
      ],
      "text/plain": [
       "       id                              title release_date  \\\n",
       "0  758323                The Pope's Exorcist   2023-04-05   \n",
       "1  640146  Ant-Man and the Wasp: Quantumania   2023-02-15   \n",
       "2  502356        The Super Mario Bros. Movie   2023-04-05   \n",
       "3  868759                            Ghosted   2023-04-18   \n",
       "4  594767           Shazam! Fury of the Gods   2023-03-15   \n",
       "\n",
       "                                              genres original_language  \\\n",
       "0                  ['Horror', 'Mystery', 'Thriller']           English   \n",
       "1         ['Action', 'Adventure', 'Science Fiction']           English   \n",
       "2  ['Animation', 'Adventure', 'Family', 'Fantasy'...           English   \n",
       "3                    ['Action', 'Comedy', 'Romance']           English   \n",
       "4       ['Action', 'Comedy', 'Fantasy', 'Adventure']           English   \n",
       "\n",
       "   vote_average  vote_count  popularity  \\\n",
       "0           7.4         619    5089.969   \n",
       "1           6.6        2294    4665.438   \n",
       "2           7.5        1861    3935.550   \n",
       "3           7.2         652    2791.532   \n",
       "4           6.8        1510    2702.593   \n",
       "\n",
       "                                            overview     budget  \\\n",
       "0  Father Gabriele Amorth, Chief Exorcist of the ...   18000000   \n",
       "1  Super-Hero partners Scott Lang and Hope van Dy...  200000000   \n",
       "2  While working underground to fix a water main,...  100000000   \n",
       "3  Salt-of-the-earth Cole falls head over heels f...          0   \n",
       "4  Billy Batson and his foster siblings, who tran...  125000000   \n",
       "\n",
       "                                production_companies     revenue  runtime  \\\n",
       "0  ['Screen Gems', '2.0 Entertainment', 'Jesus & ...    65675816      103   \n",
       "1      ['Marvel Studios', 'Kevin Feige Productions']   464566092      125   \n",
       "2  ['Universal Pictures', 'Illumination', 'Ninten...  1121048165       92   \n",
       "3                ['Skydance Media', 'Apple Studios']           0      120   \n",
       "4  ['New Line Cinema', 'The Safran Company', 'DC ...   133437105      130   \n",
       "\n",
       "                                             tagline  \n",
       "0  Inspired by the actual files of Father Gabriel...  \n",
       "1            Witness the beginning of a new dynasty.  \n",
       "2                                                NaN  \n",
       "3  Finding that special someone can be a real adv...  \n",
       "4                                      Oh. My. Gods.  "
      ]
     },
     "execution_count": 3,
     "metadata": {},
     "output_type": "execute_result"
    }
   ],
   "source": [
    "movies_data.head()"
   ]
  },
  {
   "cell_type": "code",
   "execution_count": 4,
   "metadata": {},
   "outputs": [
    {
     "name": "stdout",
     "output_type": "stream",
     "text": [
      "(10000, 14)\n",
      "id                        int64\n",
      "title                    object\n",
      "release_date             object\n",
      "genres                   object\n",
      "original_language        object\n",
      "vote_average            float64\n",
      "vote_count                int64\n",
      "popularity              float64\n",
      "overview                 object\n",
      "budget                    int64\n",
      "production_companies     object\n",
      "revenue                   int64\n",
      "runtime                   int64\n",
      "tagline                  object\n",
      "dtype: object\n"
     ]
    }
   ],
   "source": [
    "print(movies_data.shape)\n",
    "print(movies_data.dtypes)"
   ]
  },
  {
   "cell_type": "code",
   "execution_count": 5,
   "metadata": {},
   "outputs": [
    {
     "name": "stdout",
     "output_type": "stream",
     "text": [
      "title                   9650\n",
      "release_date            5877\n",
      "genres                  2323\n",
      "original_language         51\n",
      "overview                9916\n",
      "production_companies    7990\n",
      "tagline                 7189\n",
      "dtype: int64\n"
     ]
    }
   ],
   "source": [
    "print(movies_data.select_dtypes([\"object\"]).nunique())"
   ]
  },
  {
   "cell_type": "code",
   "execution_count": 6,
   "metadata": {},
   "outputs": [
    {
     "data": {
      "text/plain": [
       "id                         0\n",
       "title                      0\n",
       "release_date              21\n",
       "genres                     0\n",
       "original_language          0\n",
       "vote_average               0\n",
       "vote_count                 0\n",
       "popularity                 0\n",
       "overview                  77\n",
       "budget                     0\n",
       "production_companies       0\n",
       "revenue                    0\n",
       "runtime                    0\n",
       "tagline                 2759\n",
       "dtype: int64"
      ]
     },
     "execution_count": 6,
     "metadata": {},
     "output_type": "execute_result"
    }
   ],
   "source": [
    "movies_data.isnull().sum()"
   ]
  },
  {
   "cell_type": "code",
   "execution_count": 7,
   "metadata": {},
   "outputs": [
    {
     "data": {
      "text/plain": [
       "<Axes: xlabel='budget', ylabel='vote_average'>"
      ]
     },
     "execution_count": 7,
     "metadata": {},
     "output_type": "execute_result"
    },
    {
     "data": {
      "image/png": "[encoded data removed]",
      "text/plain": [
       "<Figure size 640x480 with 1 Axes>"
      ]
     },
     "metadata": {},
     "output_type": "display_data"
    }
   ],
   "source": [
    "sns.lineplot(data = movies_data, x = \"budget\", y = \"vote_average\")"
   ]
  },
  {
   "cell_type": "code",
   "execution_count": 8,
   "metadata": {},
   "outputs": [
    {
     "name": "stdout",
     "output_type": "stream",
     "text": [
      "0    2023\n",
      "1    2023\n",
      "2    2023\n",
      "3    2023\n",
      "4    2023\n",
      "Name: release_year, dtype: int32\n"
     ]
    },
    {
     "name": "stderr",
     "output_type": "stream",
     "text": [
      "C:\\Users\\Userpc\\AppData\\Local\\Temp\\ipykernel_7860\\1512917774.py:2: SettingWithCopyWarning: \n",
      "A value is trying to be set on a copy of a slice from a DataFrame.\n",
      "Try using .loc[row_indexer,col_indexer] = value instead\n",
      "\n",
      "See the caveats in the documentation: https://pandas.pydata.org/pandas-docs/stable/user_guide/indexing.html#returning-a-view-versus-a-copy\n",
      "  movies_data_no_mis_val_year[\"release_year\"] = movies_data_no_mis_val_year[\"release_date\"].str.split(\"-\").str[0].astype('int')\n"
     ]
    }
   ],
   "source": [
    "movies_data_no_mis_val_year = movies_data.dropna(subset=\"release_date\")\n",
    "movies_data_no_mis_val_year[\"release_year\"] = movies_data_no_mis_val_year[\"release_date\"].str.split(\"-\").str[0].astype('int')\n",
    "print(movies_data_no_mis_val_year.release_year.head())"
   ]
  },
  {
   "cell_type": "code",
   "execution_count": 9,
   "metadata": {},
   "outputs": [
    {
     "name": "stdout",
     "output_type": "stream",
     "text": [
      "10000\n"
     ]
    }
   ],
   "source": [
    "print(movies_data[\"id\"].nunique())"
   ]
  },
  {
   "cell_type": "markdown",
   "metadata": {},
   "source": [
    "The question I answered with this code: How many movies were released each year after the year 1999?"
   ]
  },
  {
   "cell_type": "code",
   "execution_count": 10,
   "metadata": {},
   "outputs": [
    {
     "name": "stdout",
     "output_type": "stream",
     "text": [
      "      release_year  movies_each_year\n",
      "4953          2028                 1\n",
      "1714          2026                 1\n",
      "1769          2025                 2\n",
      "1610          2024                13\n",
      "0             2023               444\n",
      "5             2022               946\n",
      "68            2021               632\n",
      "86            2020               461\n",
      "78            2019               478\n",
      "123           2018               457\n",
      "37            2017               430\n",
      "176           2016               375\n",
      "125           2015               330\n",
      "83            2014               313\n",
      "137           2013               287\n",
      "175           2012               249\n",
      "138           2011               255\n",
      "269           2010               240\n",
      "89            2009               253\n",
      "394           2008               206\n",
      "285           2007               219\n",
      "482           2006               212\n",
      "161           2005               186\n",
      "165           2004               181\n",
      "326           2003               153\n",
      "262           2002               146\n",
      "163           2001               132\n",
      "162           2000               128\n"
     ]
    },
    {
     "name": "stderr",
     "output_type": "stream",
     "text": [
      "C:\\Users\\Userpc\\AppData\\Local\\Temp\\ipykernel_7860\\3737793145.py:1: SettingWithCopyWarning: \n",
      "A value is trying to be set on a copy of a slice from a DataFrame.\n",
      "Try using .loc[row_indexer,col_indexer] = value instead\n",
      "\n",
      "See the caveats in the documentation: https://pandas.pydata.org/pandas-docs/stable/user_guide/indexing.html#returning-a-view-versus-a-copy\n",
      "  movies_data_no_mis_val_year[\"movies_each_year\"] = movies_data_no_mis_val_year.groupby(\"release_year\")[\"id\"].transform('count')\n"
     ]
    }
   ],
   "source": [
    "movies_data_no_mis_val_year[\"movies_each_year\"] = movies_data_no_mis_val_year.groupby(\"release_year\")[\"id\"].transform('count')\n",
    "unique_year_movies = movies_data_no_mis_val_year.drop_duplicates(subset=\"release_year\")\n",
    "unique_year_movies = unique_year_movies[unique_year_movies[\"release_year\"] >= 2000]\n",
    "unique_year_movies = unique_year_movies.sort_values(by=\"release_year\", ascending=False)\n",
    "print(unique_year_movies[[\"release_year\", \"movies_each_year\"]])"
   ]
  },
  {
   "cell_type": "code",
   "execution_count": 11,
   "metadata": {},
   "outputs": [
    {
     "data": {
      "image/png": "[encoded data removed]",
      "text/plain": [
       "<Figure size 640x480 with 1 Axes>"
      ]
     },
     "metadata": {},
     "output_type": "display_data"
    }
   ],
   "source": [
    "sns.lineplot(data=unique_year_movies, x = \"release_year\", y = \"movies_each_year\")\n",
    "plt.xlim(2000, 2023)\n",
    "plt.title(\"Popular movies released each year\")\n",
    "plt.xlabel(\"Release Year\")\n",
    "plt.ylabel(\"The Number of Movies\")\n",
    "plt.show()"
   ]
  },
  {
   "cell_type": "markdown",
   "metadata": {},
   "source": [
    "The question I answered here: What is the average voting rate for movies each year after 1999?"
   ]
  },
  {
   "cell_type": "code",
   "execution_count": 12,
   "metadata": {},
   "outputs": [
    {
     "name": "stdout",
     "output_type": "stream",
     "text": [
      "      release_year  average_rate_this_year\n",
      "4953          2028                0.000000\n",
      "1714          2026                0.000000\n",
      "1769          2025                0.000000\n",
      "1610          2024                0.000000\n",
      "0             2023                3.939640\n",
      "5             2022                6.456871\n",
      "68            2021                6.562184\n",
      "86            2020                6.365293\n",
      "78            2019                6.429289\n",
      "123           2018                6.328884\n",
      "37            2017                6.277907\n",
      "176           2016                6.312267\n",
      "125           2015                6.346667\n",
      "83            2014                6.400958\n",
      "137           2013                6.477352\n",
      "175           2012                6.369478\n",
      "138           2011                6.444706\n",
      "269           2010                6.462500\n",
      "89            2009                6.358498\n",
      "394           2008                6.406311\n",
      "285           2007                6.507306\n",
      "482           2006                6.454717\n",
      "161           2005                6.360753\n",
      "165           2004                6.550276\n",
      "326           2003                6.424183\n",
      "262           2002                6.484247\n",
      "163           2001                6.608333\n",
      "162           2000                6.421875\n"
     ]
    }
   ],
   "source": [
    "average_rate_each_year = movies_data.copy()\n",
    "average_rate_each_year = average_rate_each_year.dropna(subset=\"release_date\")\n",
    "average_rate_each_year[\"release_year\"] = average_rate_each_year[\"release_date\"].str.split(\"-\").str[0].astype('int')\n",
    "average_rate_each_year[\"average_rate_this_year\"] = average_rate_each_year.groupby(\"release_year\")[\"vote_average\"].transform('mean')\n",
    "\n",
    "unique_average_rate = average_rate_each_year.drop_duplicates(subset=\"release_year\")\n",
    "unique_average_rate = unique_average_rate.sort_values(by=\"release_year\", ascending=False)\n",
    "unique_average_rate = unique_average_rate[unique_average_rate[\"release_year\"] >= 2000]\n",
    "print(unique_average_rate[[\"release_year\", \"average_rate_this_year\"]])"
   ]
  },
  {
   "cell_type": "code",
   "execution_count": 13,
   "metadata": {},
   "outputs": [
    {
     "data": {
      "image/png": "[encoded data removed]",
      "text/plain": [
       "<Figure size 640x480 with 1 Axes>"
      ]
     },
     "metadata": {},
     "output_type": "display_data"
    }
   ],
   "source": [
    "sns.lineplot(data=unique_average_rate, x = \"release_year\", y = \"average_rate_this_year\")\n",
    "plt.title(\"Movie's aberage rate each year\")\n",
    "plt.xlabel(\"Release Year\")\n",
    "plt.ylabel(\"Avyrage Rate\")\n",
    "plt.xlim(2000, 2023)\n",
    "plt.show()"
   ]
  },
  {
   "cell_type": "markdown",
   "metadata": {},
   "source": [
    "The question I answered with this code: What was the most popular movie each year and its voting rate?"
   ]
  },
  {
   "cell_type": "code",
   "execution_count": 14,
   "metadata": {},
   "outputs": [
    {
     "name": "stdout",
     "output_type": "stream",
     "text": [
      "      release_year                                              title  \\\n",
      "162           2000                                 Dungeons & Dragons   \n",
      "163           2001                                              Shrek   \n",
      "262           2002            Harry Potter and the Chamber of Secrets   \n",
      "326           2003  Pirates of the Caribbean: The Curse of the Bla...   \n",
      "165           2004                            Zatch Bell! 101st Devil   \n",
      "161           2005  The Chronicles of Narnia: The Lion, the Witch ...   \n",
      "482           2006         Pirates of the Caribbean: Dead Man's Chest   \n",
      "285           2007          Harry Potter and the Order of the Phoenix   \n",
      "394           2008                                           Twilight   \n",
      "89            2009           The Forbidden Legend: Sex & Chopsticks 2   \n",
      "269           2010                                            Tangled   \n",
      "138           2011                   3-D Sex and Zen: Extreme Ecstasy   \n",
      "175           2012  Berserk: The Golden Age Arc II - The Battle fo...   \n",
      "137           2013                    Sword Art Online: Extra Edition   \n",
      "83            2014                            Guardians of the Galaxy   \n",
      "125           2015                                         Superfast!   \n",
      "176           2016                                      Hacksaw Ridge   \n",
      "37            2017                     Guardians of the Galaxy Vol. 2   \n",
      "123           2018                             Avengers: Infinity War   \n",
      "78            2019      Demon Slayer: Kimetsu no Yaiba Sibling's Bond   \n",
      "86            2020  Demon Slayer -Kimetsu no Yaiba- The Movie: Mug...   \n",
      "68            2021                            Spider-Man: No Way Home   \n",
      "5             2022                           Avatar: The Way of Water   \n",
      "0             2023                                The Pope's Exorcist   \n",
      "1610          2024                               Sonic the Hedgehog 3   \n",
      "1769          2025                         Avengers: The Kang Dynasty   \n",
      "1714          2026                              Avengers: Secret Wars   \n",
      "4953          2028                                           Avatar 5   \n",
      "\n",
      "      best_title  \n",
      "162          8.2  \n",
      "163          8.5  \n",
      "262          8.4  \n",
      "326          8.5  \n",
      "165          8.4  \n",
      "161          8.1  \n",
      "482          8.2  \n",
      "285          8.1  \n",
      "394          8.5  \n",
      "89           8.2  \n",
      "269          8.4  \n",
      "138          8.3  \n",
      "175          8.2  \n",
      "137          8.5  \n",
      "83           8.4  \n",
      "125          8.4  \n",
      "176          8.5  \n",
      "37           9.3  \n",
      "123         10.0  \n",
      "78          10.0  \n",
      "86          10.0  \n",
      "68          10.0  \n",
      "5           10.0  \n",
      "0           10.0  \n",
      "1610         0.0  \n",
      "1769         0.0  \n",
      "1714         0.0  \n",
      "4953         0.0  \n"
     ]
    }
   ],
   "source": [
    "best_movie = movies_data.copy()\n",
    "best_movie[\"release_date\"].isnull().sum()\n",
    "best_movie = best_movie.dropna(subset=\"release_date\")\n",
    "best_movie[\"release_year\"] = best_movie[\"release_date\"].str.split(\"-\").str[0].astype(int)\n",
    "best_movie[\"best_title\"] = best_movie.groupby(\"release_year\")[\"vote_average\"].transform('max')\n",
    "best_movie = best_movie.drop_duplicates(subset=\"release_year\")\n",
    "best_movie = best_movie[best_movie[\"release_year\"] >= 2000]\n",
    "best_movie = best_movie.sort_values(by=\"release_year\")\n",
    "print(best_movie[[\"release_year\", \"title\", \"best_title\"]])"
   ]
  },
  {
   "cell_type": "markdown",
   "metadata": {},
   "source": [
    "What is the most popular movie in a certain language?"
   ]
  },
  {
   "cell_type": "code",
   "execution_count": 15,
   "metadata": {},
   "outputs": [
    {
     "name": "stdout",
     "output_type": "stream",
     "text": [
      "                                                  title  most_popular  \\\n",
      "0                                   The Pope's Exorcist      5089.969   \n",
      "17                                                  AKA      1383.661   \n",
      "18    Pirates Down the Street II: The Ninjas from Ac...       734.011   \n",
      "19                                   The Communion Girl       676.862   \n",
      "26                                         Kill Boksoon       592.130   \n",
      "43    That Time I Got Reincarnated as a Slime the Mo...       435.931   \n",
      "48                                                 Sisu       455.546   \n",
      "67                              Sniper: The White Raven       257.922   \n",
      "69                                                Troll       261.895   \n",
      "75                       Yuku et la fleur de l’Himalaya       197.218   \n",
      "89             The Forbidden Legend: Sex & Chopsticks 2       255.110   \n",
      "100                                         Kiss, Kiss!       361.900   \n",
      "121                                         Dolphin Boy       166.831   \n",
      "124                      All Quiet on the Western Front       167.289   \n",
      "134                               Ip Man: The Awakening       215.539   \n",
      "136                            Diabolik - Ginko Attacks       164.311   \n",
      "151                                   Orkestra Lurtarra       131.416   \n",
      "158                                              Hunger       152.161   \n",
      "164                               Miracle in Cell No. 7       128.270   \n",
      "188                                       One More Time       145.273   \n",
      "193                                          Cop Secret       139.738   \n",
      "201                                           Sex Games       148.271   \n",
      "209                  Shabash Feluda: Gangtokey Gondogol       103.376   \n",
      "232                     Halfaouine: Boy of the Terraces       116.509   \n",
      "234                                      Munthiri Kaadu       102.546   \n",
      "251                                                 RRR       121.562   \n",
      "305                      Bad Luck Banging or Loony Porn       106.755   \n",
      "336                                           The Big 4       107.588   \n",
      "441                                       The Open Body        77.942   \n",
      "511                                     The Last Client        67.257   \n",
      "612                                  You Won't Be Alone        62.567   \n",
      "1049                                 Love, Strange Love        48.684   \n",
      "1114                                      The Ancestral        34.181   \n",
      "1162                                               Suro        36.511   \n",
      "1416                                       Looop Lapeta        33.395   \n",
      "1531                                        Holy Spider        57.179   \n",
      "2070                                 Private Manoeuvres        20.008   \n",
      "2749                                     A Serbian Film        30.814   \n",
      "3466                                   Pathinettam Padi        18.777   \n",
      "3543                         Emmanuelle: Queen of Sados        18.458   \n",
      "4717                                               Well        20.230   \n",
      "5265                                        Men in Hope        16.669   \n",
      "6045                                       Troll Hunter        16.935   \n",
      "6340                                             Barbie        10.093   \n",
      "6988                                   K.G.F: Chapter 1        13.418   \n",
      "7315                                     The Quiet Girl        12.405   \n",
      "8061                                          Jailbreak        11.664   \n",
      "9096                                 I Miss Sonia Henie        13.323   \n",
      "9286                     Lunana: A Yak in the Classroom        11.366   \n",
      "9312                               Ki Mein Jhoot Boleya        10.082   \n",
      "9922                                      Mental Finger         9.660   \n",
      "\n",
      "     original_language  \n",
      "0              English  \n",
      "17              French  \n",
      "18               Dutch  \n",
      "19             Spanish  \n",
      "26              Korean  \n",
      "43            Japanese  \n",
      "48             Finnish  \n",
      "67           Ukrainian  \n",
      "69           Norwegian  \n",
      "75            Estonian  \n",
      "89                  cn  \n",
      "100             Polish  \n",
      "121            Russian  \n",
      "124             German  \n",
      "134            Chinese  \n",
      "136            Italian  \n",
      "151             Basque  \n",
      "158               Thai  \n",
      "164            Turkish  \n",
      "188            Swedish  \n",
      "193          Icelandic  \n",
      "201            Tagalog  \n",
      "209            Bengali  \n",
      "232             Arabic  \n",
      "234              Tamil  \n",
      "251             Telugu  \n",
      "305           Romanian  \n",
      "336         Indonesian  \n",
      "441           Galician  \n",
      "511             Danish  \n",
      "612         Macedonian  \n",
      "1049        Portuguese  \n",
      "1114        Vietnamese  \n",
      "1162           Catalan  \n",
      "1416             Hindi  \n",
      "1531           Persian  \n",
      "2070            Hebrew  \n",
      "2749           Serbian  \n",
      "3466         Malayalam  \n",
      "3543             Greek  \n",
      "4717         Hungarian  \n",
      "5265             Czech  \n",
      "6045  Norwegian Bokmal  \n",
      "6340                xx  \n",
      "6988           Kannada  \n",
      "7315             Irish  \n",
      "8061             Khmer  \n",
      "9096                sh  \n",
      "9286          Dzongkha  \n",
      "9312           Panjabi  \n",
      "9922         Sundanese  \n"
     ]
    }
   ],
   "source": [
    "langugage_movie_data = movies_data.copy()\n",
    "langugage_movie_data[\"most_popular\"] = langugage_movie_data.groupby(\"original_language\")[\"popularity\"].transform(\"max\")\n",
    "langugage_movie_data = langugage_movie_data.drop_duplicates(subset=\"original_language\")\n",
    "print(langugage_movie_data[[\"title\", \"most_popular\", \"original_language\"]])"
   ]
  },
  {
   "cell_type": "markdown",
   "metadata": {},
   "source": [
    "What was the budget and revenue of each popular movie?"
   ]
  },
  {
   "cell_type": "code",
   "execution_count": 16,
   "metadata": {},
   "outputs": [
    {
     "name": "stdout",
     "output_type": "stream",
     "text": [
      "      release_year                                              title  \\\n",
      "162           2000                                 Dungeons & Dragons   \n",
      "163           2001                                              Shrek   \n",
      "262           2002            Harry Potter and the Chamber of Secrets   \n",
      "326           2003  Pirates of the Caribbean: The Curse of the Bla...   \n",
      "165           2004                            Zatch Bell! 101st Devil   \n",
      "161           2005  The Chronicles of Narnia: The Lion, the Witch ...   \n",
      "482           2006         Pirates of the Caribbean: Dead Man's Chest   \n",
      "285           2007          Harry Potter and the Order of the Phoenix   \n",
      "394           2008                                           Twilight   \n",
      "89            2009           The Forbidden Legend: Sex & Chopsticks 2   \n",
      "269           2010                                            Tangled   \n",
      "138           2011                   3-D Sex and Zen: Extreme Ecstasy   \n",
      "175           2012  Berserk: The Golden Age Arc II - The Battle fo...   \n",
      "137           2013                    Sword Art Online: Extra Edition   \n",
      "83            2014                            Guardians of the Galaxy   \n",
      "125           2015                                         Superfast!   \n",
      "176           2016                                      Hacksaw Ridge   \n",
      "37            2017                     Guardians of the Galaxy Vol. 2   \n",
      "123           2018                             Avengers: Infinity War   \n",
      "78            2019      Demon Slayer: Kimetsu no Yaiba Sibling's Bond   \n",
      "86            2020  Demon Slayer -Kimetsu no Yaiba- The Movie: Mug...   \n",
      "68            2021                            Spider-Man: No Way Home   \n",
      "5             2022                           Avatar: The Way of Water   \n",
      "0             2023                                The Pope's Exorcist   \n",
      "1610          2024                               Sonic the Hedgehog 3   \n",
      "1769          2025                         Avengers: The Kang Dynasty   \n",
      "1714          2026                              Avengers: Secret Wars   \n",
      "4953          2028                                           Avatar 5   \n",
      "\n",
      "         budget     revenue  \n",
      "162    35000000    15185241  \n",
      "163    60000000   487853320  \n",
      "262   100000000   876688482  \n",
      "326   140000000   655011224  \n",
      "165           0           0  \n",
      "161   180000000   745013115  \n",
      "482   200000000  1065659812  \n",
      "285   150000000   938212738  \n",
      "394    37000000   393616788  \n",
      "89            0           0  \n",
      "269   260000000   592461732  \n",
      "138     3500000    10308238  \n",
      "175           0           0  \n",
      "137           0           0  \n",
      "83    170000000   772776600  \n",
      "125    20000000           0  \n",
      "176    40000000   175302354  \n",
      "37    200000000   863756051  \n",
      "123   300000000  2046239637  \n",
      "78            0           0  \n",
      "86     15800000   503063688  \n",
      "68    200000000  1921847111  \n",
      "5     460000000  2319331580  \n",
      "0      18000000    65675816  \n",
      "1610          0           0  \n",
      "1769          0           0  \n",
      "1714          0           0  \n",
      "4953  250000000           0  \n"
     ]
    }
   ],
   "source": [
    "best_movie = movies_data.copy()\n",
    "best_movie[\"release_date\"].isnull().sum()\n",
    "best_movie = best_movie.dropna(subset=\"release_date\")\n",
    "best_movie[\"release_year\"] = best_movie[\"release_date\"].str.split(\"-\").str[0].astype(int)\n",
    "best_movie[\"best_title\"] = best_movie.groupby(\"release_year\")[\"vote_average\"].transform('max')\n",
    "best_movie = best_movie.drop_duplicates(subset=\"release_year\")\n",
    "best_movie = best_movie[best_movie[\"release_year\"] >= 2000]\n",
    "best_movie = best_movie.sort_values(by=\"release_year\")\n",
    "print(best_movie[[\"release_year\", \"title\", \"budget\", \"revenue\"]])"
   ]
  }
 ],
 "metadata": {
  "kernelspec": {
   "display_name": "Python 3",
   "language": "python",
   "name": "python3"
  },
  "language_info": {
   "codemirror_mode": {
    "name": "ipython",
    "version": 3
   },
   "file_extension": ".py",
   "mimetype": "text/x-python",
   "name": "python",
   "nbconvert_exporter": "python",
   "pygments_lexer": "ipython3",
   "version": "3.11.4"
  },
  "orig_nbformat": 4
 },
 "nbformat": 4,
 "nbformat_minor": 2
}
